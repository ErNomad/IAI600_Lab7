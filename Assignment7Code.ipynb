{
 "cells": [
  {
   "cell_type": "code",
   "execution_count": 1,
   "id": "27d92abc",
   "metadata": {},
   "outputs": [],
   "source": [
    "import pandas as pd\n",
    "import numpy as np\n",
    "import matplotlib.pyplot as plt\n",
    "%matplotlib inline\n",
    "from tensorflow.keras.datasets import mnist\n",
    "from tensorflow.keras.utils import to_categorical\n",
    "from tensorflow.keras.models import Sequential\n",
    "from tensorflow.keras.layers import Dense,Conv2D,MaxPool2D,Flatten\n",
    "from tensorflow.keras.callbacks import EarlyStopping\n",
    "from sklearn.metrics import classification_report,confusion_matrix"
   ]
  },
  {
   "cell_type": "code",
   "execution_count": 2,
   "id": "79db23d6",
   "metadata": {},
   "outputs": [],
   "source": [
    "(X_train,y_train),(X_test,y_test) = mnist.load_data()"
   ]
  },
  {
   "cell_type": "code",
   "execution_count": 3,
   "id": "02fb128c",
   "metadata": {},
   "outputs": [],
   "source": [
    "y_cat_test = to_categorical(y_test,num_classes=10)\n",
    "y_cat_train = to_categorical(y_train,num_classes=10)"
   ]
  },
  {
   "cell_type": "code",
   "execution_count": 4,
   "id": "db61163e",
   "metadata": {},
   "outputs": [],
   "source": [
    "x_train = X_train/255\n",
    "x_test = X_test/255"
   ]
  },
  {
   "cell_type": "code",
   "execution_count": 5,
   "id": "ed60f5d6",
   "metadata": {},
   "outputs": [],
   "source": [
    "import keras\n",
    "from keras_tuner import RandomSearch\n",
    "from keras_tuner.engine.hyperparameters import HyperParameters"
   ]
  },
  {
   "cell_type": "code",
   "execution_count": 22,
   "id": "bb17246b",
   "metadata": {},
   "outputs": [],
   "source": [
    "import tensorflow as tf\n",
    "from tensorflow import keras\n",
    "import keras_tuner as kt\n",
    "\n",
    "def build_mnist_model(hp):\n",
    "    model = keras.Sequential()\n",
    "    model.add(keras.layers.Flatten(input_shape=(28, 28)))\n",
    "\n",
    "    for i in range(hp.Int('num_layers', 2, 8)):\n",
    "        model.add(keras.layers.Dense(units=hp.Int(f'units_{i}', min_value=32, max_value=256, step=32),activation='relu'))\n",
    "\n",
    "    model.add(keras.layers.Dense(10, activation='softmax'))\n",
    "    \n",
    "    \n",
    "    learning_rate = hp.Float('learning_rate', min_value=1e-6, max_value=1e-2, sampling='log')\n",
    "    \n",
    "    model.compile(optimizer=keras.optimizers.Adam(learning_rate=learning_rate),\n",
    "                  loss='categorical_crossentropy',\n",
    "                  metrics=['accuracy'])\n",
    "    batch_size = hp.Choice('batch_size', values=[32,64,96,128])\n",
    "    num_epochs = hp.Int('epochs', min_value=5, max_value=35, step=5)\n",
    "    \n",
    "    return model"
   ]
  },
  {
   "cell_type": "code",
   "execution_count": 23,
   "id": "f364d168",
   "metadata": {},
   "outputs": [
    {
     "name": "stdout",
     "output_type": "stream",
     "text": [
      "Reloading Tuner from mnist_hrd_tuning_3\\mnist_hrd_model_tuning\\tuner0.json\n"
     ]
    }
   ],
   "source": [
    "tuner = kt.RandomSearch(build_mnist_model,\n",
    "                        objective='val_accuracy',\n",
    "                        max_trials=10,\n",
    "                        executions_per_trial=2,\n",
    "                        directory='mnist_hrd_tuning_3',\n",
    "                        project_name='mnist_hrd_model_tuning')"
   ]
  },
  {
   "cell_type": "code",
   "execution_count": 24,
   "id": "18f9e049",
   "metadata": {
    "scrolled": false
   },
   "outputs": [
    {
     "name": "stdout",
     "output_type": "stream",
     "text": [
      "Trial 10 Complete [00h 04m 54s]\n",
      "val_accuracy: 0.969400018453598\n",
      "\n",
      "Best val_accuracy So Far: 0.9827499985694885\n",
      "Total elapsed time: 00h 42m 08s\n"
     ]
    }
   ],
   "source": [
    "tuner.search(x_train, y_cat_train,validation_data=(x_test, y_cat_test),epochs=25)"
   ]
  },
  {
   "cell_type": "code",
   "execution_count": 25,
   "id": "862a6ada",
   "metadata": {
    "scrolled": false
   },
   "outputs": [
    {
     "name": "stdout",
     "output_type": "stream",
     "text": [
      "Best number of layers: 5\n",
      "Best units per layer: [160, 256, 160, 256, 64]\n",
      "Best learning rate: 0.0007654816567908454\n",
      "Best batch size: 64\n"
     ]
    }
   ],
   "source": [
    "best_hps = tuner.get_best_hyperparameters(num_trials=1)[0]\n",
    "print(f\"Best number of layers: {best_hps.get('num_layers')}\")\n",
    "print(f\"Best units per layer: {[best_hps.get(f'units_{i}') for i in range(best_hps.get('num_layers'))]}\")\n",
    "print(f\"Best learning rate: {best_hps.get('learning_rate')}\")\n",
    "print(\"Best batch size:\", best_hps.get('batch_size'))"
   ]
  },
  {
   "cell_type": "code",
   "execution_count": 33,
   "id": "fb1112b7",
   "metadata": {},
   "outputs": [
    {
     "name": "stdout",
     "output_type": "stream",
     "text": [
      "Best epochs: 5\n"
     ]
    }
   ],
   "source": [
    "print(\"Best epochs:\", best_hps.get('epochs'))"
   ]
  },
  {
   "cell_type": "code",
   "execution_count": 26,
   "id": "43d1ee2f",
   "metadata": {},
   "outputs": [
    {
     "name": "stdout",
     "output_type": "stream",
     "text": [
      "Epoch 1/25\n",
      "1875/1875 [==============================] - 8s 4ms/step - loss: 0.2392 - accuracy: 0.9273 - val_loss: 0.1386 - val_accuracy: 0.9574\n",
      "Epoch 2/25\n",
      "1875/1875 [==============================] - 7s 4ms/step - loss: 0.1058 - accuracy: 0.9676 - val_loss: 0.1202 - val_accuracy: 0.9656\n",
      "Epoch 3/25\n",
      "1875/1875 [==============================] - 7s 4ms/step - loss: 0.0779 - accuracy: 0.9762 - val_loss: 0.0979 - val_accuracy: 0.9707\n",
      "Epoch 4/25\n",
      "1875/1875 [==============================] - 7s 4ms/step - loss: 0.0646 - accuracy: 0.9806 - val_loss: 0.0885 - val_accuracy: 0.9761\n",
      "Epoch 5/25\n",
      "1875/1875 [==============================] - 7s 4ms/step - loss: 0.0521 - accuracy: 0.9845 - val_loss: 0.0837 - val_accuracy: 0.9766\n",
      "Epoch 6/25\n",
      "1875/1875 [==============================] - 7s 4ms/step - loss: 0.0401 - accuracy: 0.9880 - val_loss: 0.1097 - val_accuracy: 0.9712\n",
      "Epoch 7/25\n",
      "1875/1875 [==============================] - 7s 4ms/step - loss: 0.0373 - accuracy: 0.9890 - val_loss: 0.0831 - val_accuracy: 0.9798\n",
      "Epoch 8/25\n",
      "1875/1875 [==============================] - 7s 4ms/step - loss: 0.0329 - accuracy: 0.9899 - val_loss: 0.0942 - val_accuracy: 0.9746\n",
      "Epoch 9/25\n",
      "1875/1875 [==============================] - 7s 4ms/step - loss: 0.0297 - accuracy: 0.9911 - val_loss: 0.0824 - val_accuracy: 0.9795\n",
      "Epoch 10/25\n",
      "1875/1875 [==============================] - 7s 4ms/step - loss: 0.0263 - accuracy: 0.9923 - val_loss: 0.1087 - val_accuracy: 0.9754\n",
      "Epoch 11/25\n",
      "1875/1875 [==============================] - 7s 4ms/step - loss: 0.0245 - accuracy: 0.9924 - val_loss: 0.0983 - val_accuracy: 0.9786\n",
      "Epoch 12/25\n",
      "1875/1875 [==============================] - 7s 4ms/step - loss: 0.0228 - accuracy: 0.9931 - val_loss: 0.1038 - val_accuracy: 0.9797\n",
      "Epoch 13/25\n",
      "1875/1875 [==============================] - 7s 4ms/step - loss: 0.0212 - accuracy: 0.9938 - val_loss: 0.0952 - val_accuracy: 0.9806\n",
      "Epoch 14/25\n",
      "1875/1875 [==============================] - 7s 4ms/step - loss: 0.0185 - accuracy: 0.9949 - val_loss: 0.1035 - val_accuracy: 0.9798\n",
      "Epoch 15/25\n",
      "1875/1875 [==============================] - 7s 4ms/step - loss: 0.0187 - accuracy: 0.9945 - val_loss: 0.1075 - val_accuracy: 0.9795\n",
      "Epoch 16/25\n",
      "1875/1875 [==============================] - 7s 4ms/step - loss: 0.0152 - accuracy: 0.9955 - val_loss: 0.1102 - val_accuracy: 0.9812\n",
      "Epoch 17/25\n",
      "1875/1875 [==============================] - 7s 4ms/step - loss: 0.0160 - accuracy: 0.9953 - val_loss: 0.1050 - val_accuracy: 0.9805\n",
      "Epoch 18/25\n",
      "1875/1875 [==============================] - 7s 4ms/step - loss: 0.0155 - accuracy: 0.9955 - val_loss: 0.1137 - val_accuracy: 0.9790\n",
      "Epoch 19/25\n",
      "1875/1875 [==============================] - 7s 4ms/step - loss: 0.0158 - accuracy: 0.9958 - val_loss: 0.1053 - val_accuracy: 0.9813\n",
      "Epoch 20/25\n",
      "1875/1875 [==============================] - 7s 4ms/step - loss: 0.0130 - accuracy: 0.9964 - val_loss: 0.1192 - val_accuracy: 0.9822\n",
      "Epoch 21/25\n",
      "1875/1875 [==============================] - 7s 4ms/step - loss: 0.0123 - accuracy: 0.9965 - val_loss: 0.1565 - val_accuracy: 0.9775\n",
      "Epoch 22/25\n",
      "1875/1875 [==============================] - 7s 4ms/step - loss: 0.0159 - accuracy: 0.9955 - val_loss: 0.1178 - val_accuracy: 0.9773\n",
      "Epoch 23/25\n",
      "1875/1875 [==============================] - 7s 4ms/step - loss: 0.0130 - accuracy: 0.9967 - val_loss: 0.1217 - val_accuracy: 0.9814\n",
      "Epoch 24/25\n",
      "1875/1875 [==============================] - 7s 4ms/step - loss: 0.0117 - accuracy: 0.9966 - val_loss: 0.1245 - val_accuracy: 0.9787\n",
      "Epoch 25/25\n",
      "1875/1875 [==============================] - 7s 4ms/step - loss: 0.0111 - accuracy: 0.9973 - val_loss: 0.1560 - val_accuracy: 0.9807\n"
     ]
    }
   ],
   "source": [
    "model = tuner.hypermodel.build(best_hps)\n",
    "history = model.fit(x_train, y_cat_train,epochs=25,validation_data=(x_test, y_cat_test))"
   ]
  },
  {
   "cell_type": "code",
   "execution_count": 27,
   "id": "5e864324",
   "metadata": {},
   "outputs": [
    {
     "data": {
      "text/plain": [
       "{'loss': [0.23921434581279755,\n",
       "  0.10584308952093124,\n",
       "  0.07790107280015945,\n",
       "  0.06463032960891724,\n",
       "  0.052073124796152115,\n",
       "  0.040069498121738434,\n",
       "  0.037268754094839096,\n",
       "  0.032872915267944336,\n",
       "  0.029740219935774803,\n",
       "  0.026289092376828194,\n",
       "  0.02454238571226597,\n",
       "  0.022760238498449326,\n",
       "  0.02117806486785412,\n",
       "  0.01852506399154663,\n",
       "  0.01865674927830696,\n",
       "  0.015181872993707657,\n",
       "  0.015957389026880264,\n",
       "  0.015485127456486225,\n",
       "  0.01583845354616642,\n",
       "  0.01296500489115715,\n",
       "  0.012343519367277622,\n",
       "  0.01594306342303753,\n",
       "  0.012983872555196285,\n",
       "  0.011691424995660782,\n",
       "  0.011142841540277004],\n",
       " 'accuracy': [0.9273166656494141,\n",
       "  0.9676499962806702,\n",
       "  0.9761999845504761,\n",
       "  0.9805999994277954,\n",
       "  0.9844833612442017,\n",
       "  0.9879999756813049,\n",
       "  0.9889833331108093,\n",
       "  0.9899333119392395,\n",
       "  0.991100013256073,\n",
       "  0.9922833442687988,\n",
       "  0.9923666715621948,\n",
       "  0.9931166768074036,\n",
       "  0.9938333630561829,\n",
       "  0.994949996471405,\n",
       "  0.9945499897003174,\n",
       "  0.9954500198364258,\n",
       "  0.9952999949455261,\n",
       "  0.9955000281333923,\n",
       "  0.9957666397094727,\n",
       "  0.996399998664856,\n",
       "  0.9965333342552185,\n",
       "  0.9955000281333923,\n",
       "  0.9967166781425476,\n",
       "  0.9966333508491516,\n",
       "  0.9973000288009644],\n",
       " 'val_loss': [0.1386045515537262,\n",
       "  0.12024283409118652,\n",
       "  0.09793344885110855,\n",
       "  0.0885162502527237,\n",
       "  0.0837341770529747,\n",
       "  0.10969316214323044,\n",
       "  0.0831499844789505,\n",
       "  0.09416765719652176,\n",
       "  0.08243440836668015,\n",
       "  0.10867345333099365,\n",
       "  0.09834259748458862,\n",
       "  0.10377532988786697,\n",
       "  0.09520058333873749,\n",
       "  0.1034669429063797,\n",
       "  0.10750304162502289,\n",
       "  0.11022264510393143,\n",
       "  0.1049819365143776,\n",
       "  0.11371243000030518,\n",
       "  0.1053045392036438,\n",
       "  0.11923499405384064,\n",
       "  0.15645094215869904,\n",
       "  0.11780577152967453,\n",
       "  0.12170633673667908,\n",
       "  0.1244785264134407,\n",
       "  0.15598703920841217],\n",
       " 'val_accuracy': [0.9574000239372253,\n",
       "  0.9656000137329102,\n",
       "  0.9707000255584717,\n",
       "  0.9761000275611877,\n",
       "  0.9765999913215637,\n",
       "  0.9711999893188477,\n",
       "  0.9797999858856201,\n",
       "  0.9746000170707703,\n",
       "  0.9794999957084656,\n",
       "  0.9753999710083008,\n",
       "  0.978600025177002,\n",
       "  0.9797000288963318,\n",
       "  0.9805999994277954,\n",
       "  0.9797999858856201,\n",
       "  0.9794999957084656,\n",
       "  0.9811999797821045,\n",
       "  0.9804999828338623,\n",
       "  0.9789999723434448,\n",
       "  0.9812999963760376,\n",
       "  0.982200026512146,\n",
       "  0.9775000214576721,\n",
       "  0.9772999882698059,\n",
       "  0.9814000129699707,\n",
       "  0.9786999821662903,\n",
       "  0.9807000160217285]}"
      ]
     },
     "execution_count": 27,
     "metadata": {},
     "output_type": "execute_result"
    }
   ],
   "source": [
    "history.history"
   ]
  },
  {
   "cell_type": "code",
   "execution_count": 28,
   "id": "9450c83a",
   "metadata": {},
   "outputs": [],
   "source": [
    "metrics = pd.DataFrame(history.history)"
   ]
  },
  {
   "cell_type": "code",
   "execution_count": 29,
   "id": "a8679b6c",
   "metadata": {},
   "outputs": [
    {
     "data": {
      "text/html": [
       "<div>\n",
       "<style scoped>\n",
       "    .dataframe tbody tr th:only-of-type {\n",
       "        vertical-align: middle;\n",
       "    }\n",
       "\n",
       "    .dataframe tbody tr th {\n",
       "        vertical-align: top;\n",
       "    }\n",
       "\n",
       "    .dataframe thead th {\n",
       "        text-align: right;\n",
       "    }\n",
       "</style>\n",
       "<table border=\"1\" class=\"dataframe\">\n",
       "  <thead>\n",
       "    <tr style=\"text-align: right;\">\n",
       "      <th></th>\n",
       "      <th>loss</th>\n",
       "      <th>accuracy</th>\n",
       "      <th>val_loss</th>\n",
       "      <th>val_accuracy</th>\n",
       "    </tr>\n",
       "  </thead>\n",
       "  <tbody>\n",
       "    <tr>\n",
       "      <th>0</th>\n",
       "      <td>0.239214</td>\n",
       "      <td>0.927317</td>\n",
       "      <td>0.138605</td>\n",
       "      <td>0.9574</td>\n",
       "    </tr>\n",
       "    <tr>\n",
       "      <th>1</th>\n",
       "      <td>0.105843</td>\n",
       "      <td>0.967650</td>\n",
       "      <td>0.120243</td>\n",
       "      <td>0.9656</td>\n",
       "    </tr>\n",
       "    <tr>\n",
       "      <th>2</th>\n",
       "      <td>0.077901</td>\n",
       "      <td>0.976200</td>\n",
       "      <td>0.097933</td>\n",
       "      <td>0.9707</td>\n",
       "    </tr>\n",
       "    <tr>\n",
       "      <th>3</th>\n",
       "      <td>0.064630</td>\n",
       "      <td>0.980600</td>\n",
       "      <td>0.088516</td>\n",
       "      <td>0.9761</td>\n",
       "    </tr>\n",
       "    <tr>\n",
       "      <th>4</th>\n",
       "      <td>0.052073</td>\n",
       "      <td>0.984483</td>\n",
       "      <td>0.083734</td>\n",
       "      <td>0.9766</td>\n",
       "    </tr>\n",
       "    <tr>\n",
       "      <th>5</th>\n",
       "      <td>0.040069</td>\n",
       "      <td>0.988000</td>\n",
       "      <td>0.109693</td>\n",
       "      <td>0.9712</td>\n",
       "    </tr>\n",
       "    <tr>\n",
       "      <th>6</th>\n",
       "      <td>0.037269</td>\n",
       "      <td>0.988983</td>\n",
       "      <td>0.083150</td>\n",
       "      <td>0.9798</td>\n",
       "    </tr>\n",
       "    <tr>\n",
       "      <th>7</th>\n",
       "      <td>0.032873</td>\n",
       "      <td>0.989933</td>\n",
       "      <td>0.094168</td>\n",
       "      <td>0.9746</td>\n",
       "    </tr>\n",
       "    <tr>\n",
       "      <th>8</th>\n",
       "      <td>0.029740</td>\n",
       "      <td>0.991100</td>\n",
       "      <td>0.082434</td>\n",
       "      <td>0.9795</td>\n",
       "    </tr>\n",
       "    <tr>\n",
       "      <th>9</th>\n",
       "      <td>0.026289</td>\n",
       "      <td>0.992283</td>\n",
       "      <td>0.108673</td>\n",
       "      <td>0.9754</td>\n",
       "    </tr>\n",
       "    <tr>\n",
       "      <th>10</th>\n",
       "      <td>0.024542</td>\n",
       "      <td>0.992367</td>\n",
       "      <td>0.098343</td>\n",
       "      <td>0.9786</td>\n",
       "    </tr>\n",
       "    <tr>\n",
       "      <th>11</th>\n",
       "      <td>0.022760</td>\n",
       "      <td>0.993117</td>\n",
       "      <td>0.103775</td>\n",
       "      <td>0.9797</td>\n",
       "    </tr>\n",
       "    <tr>\n",
       "      <th>12</th>\n",
       "      <td>0.021178</td>\n",
       "      <td>0.993833</td>\n",
       "      <td>0.095201</td>\n",
       "      <td>0.9806</td>\n",
       "    </tr>\n",
       "    <tr>\n",
       "      <th>13</th>\n",
       "      <td>0.018525</td>\n",
       "      <td>0.994950</td>\n",
       "      <td>0.103467</td>\n",
       "      <td>0.9798</td>\n",
       "    </tr>\n",
       "    <tr>\n",
       "      <th>14</th>\n",
       "      <td>0.018657</td>\n",
       "      <td>0.994550</td>\n",
       "      <td>0.107503</td>\n",
       "      <td>0.9795</td>\n",
       "    </tr>\n",
       "    <tr>\n",
       "      <th>15</th>\n",
       "      <td>0.015182</td>\n",
       "      <td>0.995450</td>\n",
       "      <td>0.110223</td>\n",
       "      <td>0.9812</td>\n",
       "    </tr>\n",
       "    <tr>\n",
       "      <th>16</th>\n",
       "      <td>0.015957</td>\n",
       "      <td>0.995300</td>\n",
       "      <td>0.104982</td>\n",
       "      <td>0.9805</td>\n",
       "    </tr>\n",
       "    <tr>\n",
       "      <th>17</th>\n",
       "      <td>0.015485</td>\n",
       "      <td>0.995500</td>\n",
       "      <td>0.113712</td>\n",
       "      <td>0.9790</td>\n",
       "    </tr>\n",
       "    <tr>\n",
       "      <th>18</th>\n",
       "      <td>0.015838</td>\n",
       "      <td>0.995767</td>\n",
       "      <td>0.105305</td>\n",
       "      <td>0.9813</td>\n",
       "    </tr>\n",
       "    <tr>\n",
       "      <th>19</th>\n",
       "      <td>0.012965</td>\n",
       "      <td>0.996400</td>\n",
       "      <td>0.119235</td>\n",
       "      <td>0.9822</td>\n",
       "    </tr>\n",
       "    <tr>\n",
       "      <th>20</th>\n",
       "      <td>0.012344</td>\n",
       "      <td>0.996533</td>\n",
       "      <td>0.156451</td>\n",
       "      <td>0.9775</td>\n",
       "    </tr>\n",
       "    <tr>\n",
       "      <th>21</th>\n",
       "      <td>0.015943</td>\n",
       "      <td>0.995500</td>\n",
       "      <td>0.117806</td>\n",
       "      <td>0.9773</td>\n",
       "    </tr>\n",
       "    <tr>\n",
       "      <th>22</th>\n",
       "      <td>0.012984</td>\n",
       "      <td>0.996717</td>\n",
       "      <td>0.121706</td>\n",
       "      <td>0.9814</td>\n",
       "    </tr>\n",
       "    <tr>\n",
       "      <th>23</th>\n",
       "      <td>0.011691</td>\n",
       "      <td>0.996633</td>\n",
       "      <td>0.124479</td>\n",
       "      <td>0.9787</td>\n",
       "    </tr>\n",
       "    <tr>\n",
       "      <th>24</th>\n",
       "      <td>0.011143</td>\n",
       "      <td>0.997300</td>\n",
       "      <td>0.155987</td>\n",
       "      <td>0.9807</td>\n",
       "    </tr>\n",
       "  </tbody>\n",
       "</table>\n",
       "</div>"
      ],
      "text/plain": [
       "        loss  accuracy  val_loss  val_accuracy\n",
       "0   0.239214  0.927317  0.138605        0.9574\n",
       "1   0.105843  0.967650  0.120243        0.9656\n",
       "2   0.077901  0.976200  0.097933        0.9707\n",
       "3   0.064630  0.980600  0.088516        0.9761\n",
       "4   0.052073  0.984483  0.083734        0.9766\n",
       "5   0.040069  0.988000  0.109693        0.9712\n",
       "6   0.037269  0.988983  0.083150        0.9798\n",
       "7   0.032873  0.989933  0.094168        0.9746\n",
       "8   0.029740  0.991100  0.082434        0.9795\n",
       "9   0.026289  0.992283  0.108673        0.9754\n",
       "10  0.024542  0.992367  0.098343        0.9786\n",
       "11  0.022760  0.993117  0.103775        0.9797\n",
       "12  0.021178  0.993833  0.095201        0.9806\n",
       "13  0.018525  0.994950  0.103467        0.9798\n",
       "14  0.018657  0.994550  0.107503        0.9795\n",
       "15  0.015182  0.995450  0.110223        0.9812\n",
       "16  0.015957  0.995300  0.104982        0.9805\n",
       "17  0.015485  0.995500  0.113712        0.9790\n",
       "18  0.015838  0.995767  0.105305        0.9813\n",
       "19  0.012965  0.996400  0.119235        0.9822\n",
       "20  0.012344  0.996533  0.156451        0.9775\n",
       "21  0.015943  0.995500  0.117806        0.9773\n",
       "22  0.012984  0.996717  0.121706        0.9814\n",
       "23  0.011691  0.996633  0.124479        0.9787\n",
       "24  0.011143  0.997300  0.155987        0.9807"
      ]
     },
     "execution_count": 29,
     "metadata": {},
     "output_type": "execute_result"
    }
   ],
   "source": [
    "metrics"
   ]
  },
  {
   "cell_type": "code",
   "execution_count": 30,
   "id": "5d8460a3",
   "metadata": {},
   "outputs": [
    {
     "data": {
      "image/png": "[encoded data removed]",
      "text/plain": [
       "<Figure size 640x480 with 1 Axes>"
      ]
     },
     "metadata": {},
     "output_type": "display_data"
    }
   ],
   "source": [
    "plt.plot(history.history['accuracy'])\n",
    "plt.plot(history.history['val_accuracy'])\n",
    "plt.title('model accuracy')\n",
    "plt.ylabel('accuracy')\n",
    "plt.xlabel('epoch')\n",
    "plt.legend(['train', 'test'], loc='upper left')\n",
    "plt.show()"
   ]
  },
  {
   "cell_type": "code",
   "execution_count": 31,
   "id": "5bd50841",
   "metadata": {},
   "outputs": [
    {
     "data": {
      "image/png": "[encoded data removed]",
      "text/plain": [
       "<Figure size 640x480 with 1 Axes>"
      ]
     },
     "metadata": {},
     "output_type": "display_data"
    }
   ],
   "source": [
    "plt.plot(history.history['loss'])\n",
    "plt.plot(history.history['val_loss'])\n",
    "plt.title('model loss')\n",
    "plt.ylabel('loss')\n",
    "plt.xlabel('epoch')\n",
    "plt.legend(['train', 'test'], loc='upper right')\n",
    "plt.show()"
   ]
  },
  {
   "cell_type": "code",
   "execution_count": 32,
   "id": "1a5eb246",
   "metadata": {},
   "outputs": [
    {
     "data": {
      "image/png": "[encoded data removed]",
      "text/plain": [
       "<Figure size 800x500 with 1 Axes>"
      ]
     },
     "metadata": {},
     "output_type": "display_data"
    }
   ],
   "source": [
    "pd.DataFrame(history.history).plot(figsize=(8, 5))\n",
    "plt.grid(True)\n",
    "plt.gca().set_ylim(0, 1)\n",
    "plt.show()"
   ]
  },
  {
   "cell_type": "code",
   "execution_count": 34,
   "id": "ac348050",
   "metadata": {},
   "outputs": [
    {
     "name": "stdout",
     "output_type": "stream",
     "text": [
      "Model: \"sequential_1\"\n",
      "_________________________________________________________________\n",
      " Layer (type)                Output Shape              Param #   \n",
      "=================================================================\n",
      " flatten_1 (Flatten)         (None, 784)               0         \n",
      "                                                                 \n",
      " dense_3 (Dense)             (None, 160)               125600    \n",
      "                                                                 \n",
      " dense_4 (Dense)             (None, 256)               41216     \n",
      "                                                                 \n",
      " dense_5 (Dense)             (None, 160)               41120     \n",
      "                                                                 \n",
      " dense_6 (Dense)             (None, 256)               41216     \n",
      "                                                                 \n",
      " dense_7 (Dense)             (None, 64)                16448     \n",
      "                                                                 \n",
      " dense_8 (Dense)             (None, 10)                650       \n",
      "                                                                 \n",
      "=================================================================\n",
      "Total params: 266,250\n",
      "Trainable params: 266,250\n",
      "Non-trainable params: 0\n",
      "_________________________________________________________________\n"
     ]
    }
   ],
   "source": [
    "model.summary()"
   ]
  },
  {
   "cell_type": "code",
   "execution_count": null,
   "id": "5a8421be",
   "metadata": {},
   "outputs": [],
   "source": []
  }
 ],
 "metadata": {
  "kernelspec": {
   "display_name": "Python 3 (ipykernel)",
   "language": "python",
   "name": "python3"
  },
  "language_info": {
   "codemirror_mode": {
    "name": "ipython",
    "version": 3
   },
   "file_extension": ".py",
   "mimetype": "text/x-python",
   "name": "python",
   "nbconvert_exporter": "python",
   "pygments_lexer": "ipython3",
   "version": "3.10.0"
  }
 },
 "nbformat": 4,
 "nbformat_minor": 5
}
